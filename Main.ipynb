{
 "cells": [
  {
   "cell_type": "code",
   "execution_count": 1,
   "id": "f3e87383-f961-495a-b1b5-9f997aad6009",
   "metadata": {},
   "outputs": [
    {
     "name": "stdout",
     "output_type": "stream",
     "text": [
      "Press 'c' to capture an image and save it to 'captured_images' folder.\n",
      "Image captured and saved to captured_images\\captured_image.jpg\n"
     ]
    }
   ],
   "source": [
    "%run image_capture.py"
   ]
  },
  {
   "cell_type": "code",
   "execution_count": 5,
   "id": "0687a2bc-ab1b-405a-a934-1d3d3367d80f",
   "metadata": {},
   "outputs": [
    {
     "name": "stdout",
     "output_type": "stream",
     "text": [
      "1/1 [==============================] - 0s 156ms/step\n",
      "HDPE\n"
     ]
    }
   ],
   "source": [
    "%run Arduino.py"
   ]
  },
  {
   "cell_type": "code",
   "execution_count": null,
   "id": "52292de5-77e7-4457-b9bb-7b0cc2f2d292",
   "metadata": {},
   "outputs": [],
   "source": []
  },
  {
   "cell_type": "code",
   "execution_count": null,
   "id": "600653d0-558d-4738-a45d-58a52292b3ca",
   "metadata": {},
   "outputs": [],
   "source": []
  }
 ],
 "metadata": {
  "kernelspec": {
   "display_name": "Python 3 (ipykernel)",
   "language": "python",
   "name": "python3"
  },
  "language_info": {
   "codemirror_mode": {
    "name": "ipython",
    "version": 3
   },
   "file_extension": ".py",
   "mimetype": "text/x-python",
   "name": "python",
   "nbconvert_exporter": "python",
   "pygments_lexer": "ipython3",
   "version": "3.8.10"
  }
 },
 "nbformat": 4,
 "nbformat_minor": 5
}
