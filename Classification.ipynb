{
 "cells": [
  {
   "cell_type": "code",
   "execution_count": 5,
   "id": "723952e5-66c6-455f-b4fc-c6f5941d10d6",
   "metadata": {},
   "outputs": [],
   "source": [
    "import tensorflow as tf\n",
    "from tensorflow.keras import layers, models\n",
    "from tensorflow.keras.preprocessing.image import ImageDataGenerator\n",
    "import os\n"
   ]
  },
  {
   "cell_type": "code",
   "execution_count": 6,
   "id": "abe0e059-4093-4f62-a8fc-cc58ed822c07",
   "metadata": {},
   "outputs": [],
   "source": [
    "img_size = (224, 224)  \n",
    "train_dir = 'train'  \n",
    "validation_dir = 'val'  \n"
   ]
  },
  {
   "cell_type": "code",
   "execution_count": 7,
   "id": "0a19176d-5989-496d-9a37-27dd9ccd2998",
   "metadata": {},
   "outputs": [],
   "source": [
    "train_datagen = ImageDataGenerator(\n",
    "    rescale=1./255,               \n",
    "    rotation_range=30,           \n",
    "    width_shift_range=0.2,        \n",
    "    height_shift_range=0.2,       \n",
    "    shear_range=0.2,              \n",
    "    zoom_range=0.2,\n",
    "    horizontal_flip=True,\n",
    "    fill_mode='nearest'\n",
    ")\n"
   ]
  },
  {
   "cell_type": "code",
   "execution_count": 8,
   "id": "d7a6d5c7-62bc-4190-91c8-27cd6af435ad",
   "metadata": {},
   "outputs": [],
   "source": [
    "test_datagen = ImageDataGenerator(rescale=1./255)\n"
   ]
  },
  {
   "cell_type": "code",
   "execution_count": 9,
   "id": "689937bd-975e-4fe0-a012-04b4247b1867",
   "metadata": {},
   "outputs": [
    {
     "name": "stdout",
     "output_type": "stream",
     "text": [
      "Found 11517 images belonging to 5 classes.\n"
     ]
    }
   ],
   "source": [
    "train_generator = train_datagen.flow_from_directory(\n",
    "    train_dir,\n",
    "    target_size=img_size,        \n",
    "    batch_size=32,               \n",
    "    class_mode='categorical',    \n",
    "    shuffle=True                 \n",
    ")\n"
   ]
  },
  {
   "cell_type": "code",
   "execution_count": 10,
   "id": "9d7a1ca8-e5f1-467e-ae13-aaf0c72b7278",
   "metadata": {},
   "outputs": [
    {
     "name": "stdout",
     "output_type": "stream",
     "text": [
      "Found 2823 images belonging to 5 classes.\n"
     ]
    }
   ],
   "source": [
    "validation_generator = test_datagen.flow_from_directory(\n",
    "    validation_dir,              \n",
    "    target_size=img_size,         \n",
    "    batch_size=32,                \n",
    "    class_mode='categorical',     \n",
    "    shuffle=False                \n",
    ")\n"
   ]
  },
  {
   "cell_type": "code",
   "execution_count": 12,
   "id": "bd7971d4-0e54-4d4a-ac81-e635a7d6a8a6",
   "metadata": {},
   "outputs": [],
   "source": [
    "num_classes=4\n",
    "model = models.Sequential([\n",
    "        # # Convolutional layer 1\n",
    "        # layers.Conv2D(32, (3, 3), activation='relu', input_shape=(img_size[0], img_size[1], 3)),\n",
    "        # layers.MaxPooling2D((2, 2)),\n",
    "        \n",
    "        # # Convolutional layer 2\n",
    "        # layers.Conv2D(64, (3, 3), activation='relu'),\n",
    "        # layers.MaxPooling2D((2, 2)),\n",
    "        \n",
    "        # # Convolutional layer 3\n",
    "        # layers.Conv2D(128, (3, 3), activation='relu'),\n",
    "        # layers.MaxPooling2D((2, 2)),\n",
    "        \n",
    "        # # Flatten the 3D data to 1D for the dense layers\n",
    "        # layers.Flatten(),\n",
    "        \n",
    "        # # Fully connected layer 1\n",
    "        # layers.Dense(128, activation='relu'),\n",
    "        \n",
    "        # # Output layer: softmax activation for multi-class classification\n",
    "        # layers.Dense(num_classes, activation='softmax')\n",
    "        layers.Conv2D(64, (3,3), activation='relu', padding='same', input_shape=(img_size[0],img_size[1],3)),\n",
    "       layers.Conv2D(64, (3,3), activation='relu', padding='same'),\n",
    "        layers.MaxPooling2D((2,2),strides=(2,2)),\n",
    "\n",
    "        layers.Conv2D(128, (3,3), activation='relu', padding='same'),\n",
    "        layers.Conv2D(128, (3,3), activation='relu', padding='same'),\n",
    "        layers.MaxPooling2D((2,2),strides=(2,2)),\n",
    "\n",
    "        layers.Conv2D(256, (3,3), activation='relu', padding='same'),\n",
    "        layers.Conv2D(256, (3,3), activation='relu', padding='same'),\n",
    "        layers.Conv2D(256, (3,3), activation='relu', padding='same'),\n",
    "        layers.MaxPooling2D((2,2),strides=(2,2)),\n",
    "\n",
    "        layers.Conv2D(512, (3,3), activation='relu', padding='same'),\n",
    "        layers.Conv2D(512, (3,3), activation='relu', padding='same'),\n",
    "        layers.Conv2D(512, (3,3), activation='relu', padding='same'),\n",
    "        layers.MaxPooling2D((2,2),strides=(2,2)),\n",
    "\n",
    "        layers.Flatten(),\n",
    "        layers.Dense(4096, activation='relu'),\n",
    "        layers.Dropout(0.5),\n",
    "       layers.Dense(4096, activation='relu'),\n",
    "        layers.Dropout(0.5),\n",
    "        layers.Dense(num_classes, activation='softmax')\n",
    "        \n",
    "    ])\n"
   ]
  },
  {
   "cell_type": "code",
   "execution_count": 13,
   "id": "13c4a33d-c0ac-42f6-8c64-49e2059ebb4c",
   "metadata": {},
   "outputs": [],
   "source": [
    "  model.compile(optimizer='adam',  \n",
    "                  loss='categorical_crossentropy',  # Use categorical crossentropy for multi-class classification\n",
    "                  metrics=['accuracy'])  # Track accuracy during training\n",
    "    \n"
   ]
  },
  {
   "cell_type": "code",
   "execution_count": 14,
   "id": "1a5b5197-958f-485b-8326-c56312b7f61c",
   "metadata": {},
   "outputs": [],
   "source": [
    "model.compile(optimizer='adam',  \n",
    "                  loss='categorical_crossentropy',  # Use categorical crossentropy for multi-class classification\n",
    "                  metrics=['accuracy'])"
   ]
  },
  {
   "cell_type": "code",
   "execution_count": 15,
   "id": "05b49f2d-18a5-4ba0-bbe9-db262efa7104",
   "metadata": {},
   "outputs": [
    {
     "name": "stdout",
     "output_type": "stream",
     "text": [
      "Model: \"sequential_1\"\n",
      "_________________________________________________________________\n",
      " Layer (type)                Output Shape              Param #   \n",
      "=================================================================\n",
      " conv2d_10 (Conv2D)          (None, 224, 224, 64)      1792      \n",
      "                                                                 \n",
      " conv2d_11 (Conv2D)          (None, 224, 224, 64)      36928     \n",
      "                                                                 \n",
      " max_pooling2d_4 (MaxPoolin  (None, 112, 112, 64)      0         \n",
      " g2D)                                                            \n",
      "                                                                 \n",
      " conv2d_12 (Conv2D)          (None, 112, 112, 128)     73856     \n",
      "                                                                 \n",
      " conv2d_13 (Conv2D)          (None, 112, 112, 128)     147584    \n",
      "                                                                 \n",
      " max_pooling2d_5 (MaxPoolin  (None, 56, 56, 128)       0         \n",
      " g2D)                                                            \n",
      "                                                                 \n",
      " conv2d_14 (Conv2D)          (None, 56, 56, 256)       295168    \n",
      "                                                                 \n",
      " conv2d_15 (Conv2D)          (None, 56, 56, 256)       590080    \n",
      "                                                                 \n",
      " conv2d_16 (Conv2D)          (None, 56, 56, 256)       590080    \n",
      "                                                                 \n",
      " max_pooling2d_6 (MaxPoolin  (None, 28, 28, 256)       0         \n",
      " g2D)                                                            \n",
      "                                                                 \n",
      " conv2d_17 (Conv2D)          (None, 28, 28, 512)       1180160   \n",
      "                                                                 \n",
      " conv2d_18 (Conv2D)          (None, 28, 28, 512)       2359808   \n",
      "                                                                 \n",
      " conv2d_19 (Conv2D)          (None, 28, 28, 512)       2359808   \n",
      "                                                                 \n",
      " max_pooling2d_7 (MaxPoolin  (None, 14, 14, 512)       0         \n",
      " g2D)                                                            \n",
      "                                                                 \n",
      " flatten_1 (Flatten)         (None, 100352)            0         \n",
      "                                                                 \n",
      " dense_3 (Dense)             (None, 4096)              411045888 \n",
      "                                                                 \n",
      " dropout_2 (Dropout)         (None, 4096)              0         \n",
      "                                                                 \n",
      " dense_4 (Dense)             (None, 4096)              16781312  \n",
      "                                                                 \n",
      " dropout_3 (Dropout)         (None, 4096)              0         \n",
      "                                                                 \n",
      " dense_5 (Dense)             (None, 4)                 16388     \n",
      "                                                                 \n",
      "=================================================================\n",
      "Total params: 435478852 (1.62 GB)\n",
      "Trainable params: 435478852 (1.62 GB)\n",
      "Non-trainable params: 0 (0.00 Byte)\n",
      "_________________________________________________________________\n"
     ]
    }
   ],
   "source": [
    "model.summary()"
   ]
  },
  {
   "cell_type": "code",
   "execution_count": null,
   "id": "0cb5a677-2440-44ed-88eb-4884040628d0",
   "metadata": {},
   "outputs": [
    {
     "name": "stdout",
     "output_type": "stream",
     "text": [
      "Epoch 1/10\n",
      "351/351 [==============================] - 16471s 47s/step - loss: 1.3868 - accuracy: 0.2844 - val_loss: 1.3775 - val_accuracy: 0.2863\n",
      "Epoch 2/10\n",
      " 24/351 [=>............................] - ETA: 4:04:09 - loss: 1.3839 - accuracy: 0.2669"
     ]
    }
   ],
   "source": [
    "history = model.fit(\n",
    "    train_generator,               # Training data\n",
    "    steps_per_epoch=train_generator.samples // train_generator.batch_size,  # Number of steps per epoch\n",
    "    epochs=10,                     # Number of epochs to train\n",
    "    validation_data=validation_generator,  # Validation data\n",
    "    validation_steps=validation_generator.samples // validation_generator.batch_size,  # Number of validation steps per epoch\n",
    ")\n"
   ]
  },
  {
   "cell_type": "code",
   "execution_count": 18,
   "id": "6a2097a1-be68-4983-8b5b-a945360749cd",
   "metadata": {},
   "outputs": [
    {
     "name": "stderr",
     "output_type": "stream",
     "text": [
      "c:\\users\\sanka\\appdata\\local\\programs\\python\\python38\\lib\\site-packages\\keras\\src\\engine\\training.py:3000: UserWarning: You are saving your model as an HDF5 file via `model.save()`. This file format is considered legacy. We recommend using instead the native Keras format, e.g. `model.save('my_model.keras')`.\n",
      "  saving_api.save_model(\n"
     ]
    }
   ],
   "source": [
    "model.save('plastic_classification_model.h5')"
   ]
  },
  {
   "cell_type": "code",
   "execution_count": 19,
   "id": "7c246361-65a6-4331-8673-bfbc969c196e",
   "metadata": {},
   "outputs": [
    {
     "name": "stdout",
     "output_type": "stream",
     "text": [
      "88/88 [==============================] - 71s 806ms/step - loss: 1.3871 - accuracy: 0.2496\n",
      "Validation Loss: 1.3871, Validation Accuracy: 0.2496\n"
     ]
    }
   ],
   "source": [
    "val_loss, val_accuracy = model.evaluate(validation_generator)\n",
    "print(f\"Validation Loss: {val_loss:.4f}, Validation Accuracy: {val_accuracy:.4f}\")\n"
   ]
  },
  {
   "cell_type": "code",
   "execution_count": 20,
   "id": "b204828f-eff5-4e68-9010-005bb5fbcf81",
   "metadata": {},
   "outputs": [
    {
     "ename": "NameError",
     "evalue": "name 'history' is not defined",
     "output_type": "error",
     "traceback": [
      "\u001b[1;31m---------------------------------------------------------------------------\u001b[0m",
      "\u001b[1;31mNameError\u001b[0m                                 Traceback (most recent call last)",
      "Cell \u001b[1;32mIn[20], line 4\u001b[0m\n\u001b[0;32m      1\u001b[0m \u001b[38;5;28;01mimport\u001b[39;00m \u001b[38;5;21;01mmatplotlib\u001b[39;00m\u001b[38;5;21;01m.\u001b[39;00m\u001b[38;5;21;01mpyplot\u001b[39;00m \u001b[38;5;28;01mas\u001b[39;00m \u001b[38;5;21;01mplt\u001b[39;00m\n\u001b[0;32m      3\u001b[0m \u001b[38;5;66;03m# Plot training & validation accuracy values\u001b[39;00m\n\u001b[1;32m----> 4\u001b[0m plt\u001b[38;5;241m.\u001b[39mplot(\u001b[43mhistory\u001b[49m\u001b[38;5;241m.\u001b[39mhistory[\u001b[38;5;124m'\u001b[39m\u001b[38;5;124maccuracy\u001b[39m\u001b[38;5;124m'\u001b[39m])\n\u001b[0;32m      5\u001b[0m plt\u001b[38;5;241m.\u001b[39mplot(history\u001b[38;5;241m.\u001b[39mhistory[\u001b[38;5;124m'\u001b[39m\u001b[38;5;124mval_accuracy\u001b[39m\u001b[38;5;124m'\u001b[39m])\n\u001b[0;32m      6\u001b[0m plt\u001b[38;5;241m.\u001b[39mtitle(\u001b[38;5;124m'\u001b[39m\u001b[38;5;124mModel Accuracy\u001b[39m\u001b[38;5;124m'\u001b[39m)\n",
      "\u001b[1;31mNameError\u001b[0m: name 'history' is not defined"
     ]
    }
   ],
   "source": [
    "import matplotlib.pyplot as plt\n",
    "\n",
    "# Plot training & validation accuracy values\n",
    "plt.plot(history.history['accuracy'])\n",
    "plt.plot(history.history['val_accuracy'])\n",
    "plt.title('Model Accuracy')\n",
    "plt.xlabel('Epoch')\n",
    "plt.ylabel('Accuracy')\n",
    "plt.legend(['Train', 'Validation'], loc='upper left')\n",
    "plt.show()\n",
    "\n",
    "# Plot training & validation loss values\n",
    "plt.plot(history.history['loss'])\n",
    "plt.plot(history.history['val_loss'])\n",
    "plt.title('Model Loss')\n",
    "plt.xlabel('Epoch')\n",
    "plt.ylabel('Loss')\n",
    "plt.legend(['Train', 'Validation'], loc='upper left')\n",
    "plt.show()"
   ]
  },
  {
   "cell_type": "code",
   "execution_count": 11,
   "id": "c19afd3c-f86e-4aeb-80f1-f24a492dafa5",
   "metadata": {},
   "outputs": [],
   "source": [
    "from tensorflow.keras.applications import VGG16\n",
    "from tensorflow.keras.layers import Dense, Flatten\n",
    "from tensorflow.keras.models import Model"
   ]
  },
  {
   "cell_type": "code",
   "execution_count": 12,
   "id": "663b5257-2f8a-4e3c-85c2-9a3db6856265",
   "metadata": {},
   "outputs": [],
   "source": [
    "vgg16_base = VGG16(weights='imagenet', include_top=False, input_shape=(224, 224, 3))"
   ]
  },
  {
   "cell_type": "code",
   "execution_count": 13,
   "id": "6602d665-d890-45c8-bed2-cfc46b87a96f",
   "metadata": {},
   "outputs": [],
   "source": [
    "for layer in vgg16_base.layers:\n",
    "    layer.trainable = False"
   ]
  },
  {
   "cell_type": "code",
   "execution_count": 14,
   "id": "6462658f-4664-4379-b0ca-bb3ef9319398",
   "metadata": {},
   "outputs": [],
   "source": [
    "x = Flatten()(vgg16_base.output)  # Flatten output of the convolutional base\n",
    "x = Dense(256, activation='relu')(x)  # Fully connected layer\n",
    "x = Dense(train_generator.num_classes, activation='softmax')(x) "
   ]
  },
  {
   "cell_type": "code",
   "execution_count": 15,
   "id": "b88777e8-92fd-4888-9932-c4739cba2fc5",
   "metadata": {},
   "outputs": [],
   "source": [
    "model = Model(inputs=vgg16_base.input, outputs=x)"
   ]
  },
  {
   "cell_type": "code",
   "execution_count": 16,
   "id": "8e212119-d435-49a7-9937-a641079df3e2",
   "metadata": {},
   "outputs": [],
   "source": [
    "model.compile(\n",
    "    optimizer='adam',\n",
    "    loss='categorical_crossentropy',\n",
    "    metrics=['accuracy']\n",
    ")"
   ]
  },
  {
   "cell_type": "code",
   "execution_count": 17,
   "id": "db098d80-b9ad-4b8e-b5ab-b113802790e8",
   "metadata": {},
   "outputs": [
    {
     "name": "stdout",
     "output_type": "stream",
     "text": [
      "Model: \"model\"\n",
      "_________________________________________________________________\n",
      " Layer (type)                Output Shape              Param #   \n",
      "=================================================================\n",
      " input_2 (InputLayer)        [(None, 224, 224, 3)]     0         \n",
      "                                                                 \n",
      " block1_conv1 (Conv2D)       (None, 224, 224, 64)      1792      \n",
      "                                                                 \n",
      " block1_conv2 (Conv2D)       (None, 224, 224, 64)      36928     \n",
      "                                                                 \n",
      " block1_pool (MaxPooling2D)  (None, 112, 112, 64)      0         \n",
      "                                                                 \n",
      " block2_conv1 (Conv2D)       (None, 112, 112, 128)     73856     \n",
      "                                                                 \n",
      " block2_conv2 (Conv2D)       (None, 112, 112, 128)     147584    \n",
      "                                                                 \n",
      " block2_pool (MaxPooling2D)  (None, 56, 56, 128)       0         \n",
      "                                                                 \n",
      " block3_conv1 (Conv2D)       (None, 56, 56, 256)       295168    \n",
      "                                                                 \n",
      " block3_conv2 (Conv2D)       (None, 56, 56, 256)       590080    \n",
      "                                                                 \n",
      " block3_conv3 (Conv2D)       (None, 56, 56, 256)       590080    \n",
      "                                                                 \n",
      " block3_pool (MaxPooling2D)  (None, 28, 28, 256)       0         \n",
      "                                                                 \n",
      " block4_conv1 (Conv2D)       (None, 28, 28, 512)       1180160   \n",
      "                                                                 \n",
      " block4_conv2 (Conv2D)       (None, 28, 28, 512)       2359808   \n",
      "                                                                 \n",
      " block4_conv3 (Conv2D)       (None, 28, 28, 512)       2359808   \n",
      "                                                                 \n",
      " block4_pool (MaxPooling2D)  (None, 14, 14, 512)       0         \n",
      "                                                                 \n",
      " block5_conv1 (Conv2D)       (None, 14, 14, 512)       2359808   \n",
      "                                                                 \n",
      " block5_conv2 (Conv2D)       (None, 14, 14, 512)       2359808   \n",
      "                                                                 \n",
      " block5_conv3 (Conv2D)       (None, 14, 14, 512)       2359808   \n",
      "                                                                 \n",
      " block5_pool (MaxPooling2D)  (None, 7, 7, 512)         0         \n",
      "                                                                 \n",
      " flatten_1 (Flatten)         (None, 25088)             0         \n",
      "                                                                 \n",
      " dense_1 (Dense)             (None, 256)               6422784   \n",
      "                                                                 \n",
      " dense_2 (Dense)             (None, 5)                 1285      \n",
      "                                                                 \n",
      "=================================================================\n",
      "Total params: 21138757 (80.64 MB)\n",
      "Trainable params: 6424069 (24.51 MB)\n",
      "Non-trainable params: 14714688 (56.13 MB)\n",
      "_________________________________________________________________\n"
     ]
    }
   ],
   "source": [
    "model.summary()"
   ]
  },
  {
   "cell_type": "code",
   "execution_count": 19,
   "id": "b71e3fee-f841-4281-987d-0cb27d9ce236",
   "metadata": {},
   "outputs": [
    {
     "name": "stdout",
     "output_type": "stream",
     "text": [
      "Epoch 1/10\n",
      "360/360 [==============================] - 1176s 3s/step - loss: 0.8194 - accuracy: 0.7129 - val_loss: 0.3433 - val_accuracy: 0.8838\n",
      "Epoch 2/10\n",
      "360/360 [==============================] - 1143s 3s/step - loss: 0.5277 - accuracy: 0.7999 - val_loss: 0.3231 - val_accuracy: 0.8842\n",
      "Epoch 3/10\n",
      "360/360 [==============================] - 1146s 3s/step - loss: 0.4166 - accuracy: 0.8450 - val_loss: 0.2796 - val_accuracy: 0.8927\n",
      "Epoch 4/10\n",
      "360/360 [==============================] - 1111s 3s/step - loss: 0.3973 - accuracy: 0.8476 - val_loss: 0.2390 - val_accuracy: 0.9122\n",
      "Epoch 5/10\n",
      "360/360 [==============================] - 1120s 3s/step - loss: 0.3575 - accuracy: 0.8631 - val_loss: 0.2403 - val_accuracy: 0.9132\n",
      "Epoch 6/10\n",
      "360/360 [==============================] - 1167s 3s/step - loss: 0.3383 - accuracy: 0.8737 - val_loss: 0.2074 - val_accuracy: 0.9164\n",
      "Epoch 7/10\n",
      "360/360 [==============================] - 1127s 3s/step - loss: 0.3229 - accuracy: 0.8783 - val_loss: 0.2064 - val_accuracy: 0.9302\n",
      "Epoch 8/10\n",
      "360/360 [==============================] - 1111s 3s/step - loss: 0.3008 - accuracy: 0.8868 - val_loss: 0.2247 - val_accuracy: 0.9146\n",
      "Epoch 9/10\n",
      "360/360 [==============================] - 1106s 3s/step - loss: 0.3081 - accuracy: 0.8820 - val_loss: 0.2351 - val_accuracy: 0.9196\n",
      "Epoch 10/10\n",
      "360/360 [==============================] - 1131s 3s/step - loss: 0.2683 - accuracy: 0.8998 - val_loss: 0.2962 - val_accuracy: 0.8920\n"
     ]
    }
   ],
   "source": [
    "# Train the model\n",
    "history = model.fit(\n",
    "    train_generator,\n",
    "    steps_per_epoch=len(train_generator),\n",
    "    epochs=10,  # Number of epochs\n",
    "    validation_data=validation_generator,\n",
    "    validation_steps=len(validation_generator)\n",
    ")\n"
   ]
  },
  {
   "cell_type": "code",
   "execution_count": 15,
   "id": "cc74a7b7-1463-4a54-8796-1ea9a28a80df",
   "metadata": {},
   "outputs": [
    {
     "name": "stderr",
     "output_type": "stream",
     "text": [
      "c:\\users\\sanka\\appdata\\local\\programs\\python\\python38\\lib\\site-packages\\keras\\src\\engine\\training.py:3000: UserWarning: You are saving your model as an HDF5 file via `model.save()`. This file format is considered legacy. We recommend using instead the native Keras format, e.g. `model.save('my_model.keras')`.\n",
      "  saving_api.save_model(\n"
     ]
    }
   ],
   "source": [
    " model.save('plastic_clsf_model.h5')"
   ]
  },
  {
   "cell_type": "code",
   "execution_count": 20,
   "id": "f5218a80-294d-4cb0-b36a-01304b639abc",
   "metadata": {},
   "outputs": [
    {
     "name": "stderr",
     "output_type": "stream",
     "text": [
      "c:\\users\\sanka\\appdata\\local\\programs\\python\\python38\\lib\\site-packages\\keras\\src\\engine\\training.py:3000: UserWarning: You are saving your model as an HDF5 file via `model.save()`. This file format is considered legacy. We recommend using instead the native Keras format, e.g. `model.save('my_model.keras')`.\n",
      "  saving_api.save_model(\n"
     ]
    }
   ],
   "source": [
    "model.save('final.h5')"
   ]
  },
  {
   "cell_type": "code",
   "execution_count": 17,
   "id": "2651405e-799d-46a0-92ab-244ee46a381a",
   "metadata": {},
   "outputs": [
    {
     "name": "stdout",
     "output_type": "stream",
     "text": [
      "Found 11274 images belonging to 5 classes.\n",
      "1/1 [==============================] - 0s 369ms/step\n",
      "Predicted class: LDPE\n",
      "LDPE\n"
     ]
    }
   ],
   "source": [
    "%run prediction.py"
   ]
  },
  {
   "cell_type": "code",
   "execution_count": 21,
   "id": "95830e3d-45f1-4527-a867-1a0ce9f1799c",
   "metadata": {},
   "outputs": [
    {
     "name": "stdout",
     "output_type": "stream",
     "text": [
      "89/89 [==============================] - 220s 2s/step - loss: 0.2962 - accuracy: 0.8920\n",
      "Validation Loss: 0.2962, Validation Accuracy: 0.8920\n"
     ]
    }
   ],
   "source": [
    "val_loss, val_accuracy = model.evaluate(validation_generator)\n",
    "print(f\"Validation Loss: {val_loss:.4f}, Validation Accuracy: {val_accuracy:.4f}\")\n"
   ]
  },
  {
   "cell_type": "code",
   "execution_count": 22,
   "id": "ec74110b-0081-4e0a-839a-29511a19ce60",
   "metadata": {},
   "outputs": [
    {
     "data": {
      "image/png": "[encoded data removed]",
      "text/plain": [
       "<Figure size 640x480 with 1 Axes>"
      ]
     },
     "metadata": {},
     "output_type": "display_data"
    },
    {
     "data": {
      "image/png": "[encoded data removed]",
      "text/plain": [
       "<Figure size 640x480 with 1 Axes>"
      ]
     },
     "metadata": {},
     "output_type": "display_data"
    }
   ],
   "source": [
    "import matplotlib.pyplot as plt\n",
    "\n",
    "# Plot training & validation accuracy values\n",
    "plt.plot(history.history['accuracy'])\n",
    "plt.plot(history.history['val_accuracy'])\n",
    "plt.title('Model Accuracy')\n",
    "plt.xlabel('Epoch')\n",
    "plt.ylabel('Accuracy')\n",
    "plt.legend(['Train', 'Validation'], loc='upper left')\n",
    "plt.show()\n",
    "\n",
    "# Plot training & validation loss values\n",
    "plt.plot(history.history['loss'])\n",
    "plt.plot(history.history['val_loss'])\n",
    "plt.title('Model Loss')\n",
    "plt.xlabel('Epoch')\n",
    "plt.ylabel('Loss')\n",
    "plt.legend(['Train', 'Validation'], loc='upper left')\n",
    "plt.show()"
   ]
  },
  {
   "cell_type": "code",
   "execution_count": null,
   "id": "577a37f0-edeb-4139-a9c1-d93108b90218",
   "metadata": {},
   "outputs": [],
   "source": []
  }
 ],
 "metadata": {
  "kernelspec": {
   "display_name": "Python 3 (ipykernel)",
   "language": "python",
   "name": "python3"
  },
  "language_info": {
   "codemirror_mode": {
    "name": "ipython",
    "version": 3
   },
   "file_extension": ".py",
   "mimetype": "text/x-python",
   "name": "python",
   "nbconvert_exporter": "python",
   "pygments_lexer": "ipython3",
   "version": "3.8.10"
  }
 },
 "nbformat": 4,
 "nbformat_minor": 5
}
